{
 "cells": [
  {
   "cell_type": "markdown",
   "metadata": {},
   "source": [
    "# Tina Rezvanian"
   ]
  },
  {
   "cell_type": "markdown",
   "metadata": {},
   "source": [
    " # Classification of Reuters newswires into 46 classes. using  TensorFlow Module Keras, i.e. tf.keras"
   ]
  },
  {
   "cell_type": "code",
   "execution_count": 53,
   "metadata": {},
   "outputs": [],
   "source": [
    "import tensorflow as tf\n",
    "import numpy as np"
   ]
  },
  {
   "cell_type": "code",
   "execution_count": 54,
   "metadata": {},
   "outputs": [
    {
     "name": "stdout",
     "output_type": "stream",
     "text": [
      "2.1.0\n",
      "2.2.4-tf\n"
     ]
    }
   ],
   "source": [
    "print(tf.__version__)\n",
    "print(tf.keras.__version__)"
   ]
  },
  {
   "cell_type": "code",
   "execution_count": 55,
   "metadata": {},
   "outputs": [],
   "source": [
    "reuters = tf.keras.datasets.reuters\n",
    "(train_data, train_labels), (test_data, test_labels) = reuters.load_data(num_words=10000)"
   ]
  },
  {
   "cell_type": "code",
   "execution_count": 6,
   "metadata": {},
   "outputs": [],
   "source": [
    "word_index = reuters.get_word_index()\n",
    "reverse_word_index = dict([(value, key) for (key, value) in word_index.items()])\n",
    "# Note that our indices were offset by 3\n",
    "# because 0, 1 and 2 are reserved indices for \"padding\", \"start of sequence\", and \"unknown\".\n",
    "decoded_newswire = ' '.join([reverse_word_index.get(i - 3, '?') for i in train_data[0]])\n",
    "\n",
    "def vectorize_sequences(sequences, dimension=10000):\n",
    "    results = np.zeros((len(sequences), dimension))\n",
    "    for i, sequence in enumerate(sequences):\n",
    "        results[i, sequence] = 1.\n",
    "    return results\n",
    "\n",
    "# Our vectorized training data\n",
    "x_train = vectorize_sequences(train_data)\n",
    "# Our vectorized test data\n",
    "x_test = vectorize_sequences(test_data)\n",
    "\n",
    "def to_one_hot(labels, dimension=46):\n",
    "    results = np.zeros((len(labels), dimension))\n",
    "    for i, label in enumerate(labels):\n",
    "        results[i, label] = 1.\n",
    "    return results\n",
    "\n",
    "# Our vectorized training labels\n",
    "one_hot_train_labels = to_one_hot(train_labels)\n",
    "# Our vectorized test labels\n",
    "one_hot_test_labels = to_one_hot(test_labels)"
   ]
  },
  {
   "cell_type": "markdown",
   "metadata": {},
   "source": [
    "\"to_categorical\" is imported from the \"tensorflow.keras.utils\" "
   ]
  },
  {
   "cell_type": "code",
   "execution_count": 7,
   "metadata": {},
   "outputs": [],
   "source": [
    "from tensorflow.keras.utils import to_categorical\n",
    "\n",
    "one_hot_train_labels = to_categorical(train_labels)\n",
    "one_hot_test_labels = to_categorical(test_labels)"
   ]
  },
  {
   "cell_type": "code",
   "execution_count": 8,
   "metadata": {},
   "outputs": [
    {
     "data": {
      "text/plain": [
       "array([[0., 0., 0., ..., 0., 0., 0.],\n",
       "       [0., 0., 0., ..., 0., 0., 0.],\n",
       "       [0., 1., 0., ..., 0., 0., 0.],\n",
       "       ...,\n",
       "       [0., 0., 0., ..., 0., 0., 0.],\n",
       "       [0., 0., 0., ..., 0., 0., 0.],\n",
       "       [0., 0., 0., ..., 0., 0., 0.]], dtype=float32)"
      ]
     },
     "execution_count": 8,
     "metadata": {},
     "output_type": "execute_result"
    }
   ],
   "source": [
    "one_hot_test_labels"
   ]
  },
  {
   "cell_type": "markdown",
   "metadata": {},
   "source": [
    "The model is created by tensorflow network as below:"
   ]
  },
  {
   "cell_type": "code",
   "execution_count": 9,
   "metadata": {},
   "outputs": [],
   "source": [
    "model = tf.keras.models.Sequential([\n",
    "  tf.keras.layers.Dense(64, activation='relu',input_shape=(10000,)),\n",
    "  tf.keras.layers.Dense(64, activation='relu'),\n",
    "  tf.keras.layers.Dense(46, activation='softmax')\n",
    "])"
   ]
  },
  {
   "cell_type": "markdown",
   "metadata": {},
   "source": [
    "The loss function uses the tensorflow's categororcal cross entropy function"
   ]
  },
  {
   "cell_type": "code",
   "execution_count": 10,
   "metadata": {},
   "outputs": [],
   "source": [
    "model.compile(optimizer='rmsprop',\n",
    "              loss=tf.keras.losses.CategoricalCrossentropy(),\n",
    "              metrics=['accuracy'])\n"
   ]
  },
  {
   "cell_type": "code",
   "execution_count": 11,
   "metadata": {},
   "outputs": [],
   "source": [
    "x_val = x_train[:1000]\n",
    "partial_x_train = x_train[1000:]\n",
    "\n",
    "y_val = one_hot_train_labels[:1000]\n",
    "partial_y_train = one_hot_train_labels[1000:]"
   ]
  },
  {
   "cell_type": "markdown",
   "metadata": {},
   "source": [
    "Tensorflow's sequential model also has fit function:"
   ]
  },
  {
   "cell_type": "code",
   "execution_count": 12,
   "metadata": {},
   "outputs": [
    {
     "name": "stdout",
     "output_type": "stream",
     "text": [
      "Train on 7982 samples, validate on 1000 samples\n",
      "Epoch 1/20\n",
      "7982/7982 [==============================] - 1s 158us/sample - loss: 2.5282 - accuracy: 0.4830 - val_loss: 1.6872 - val_accuracy: 0.6200\n",
      "Epoch 2/20\n",
      "7982/7982 [==============================] - 1s 97us/sample - loss: 1.4166 - accuracy: 0.6946 - val_loss: 1.3312 - val_accuracy: 0.7100\n",
      "Epoch 3/20\n",
      "7982/7982 [==============================] - 1s 92us/sample - loss: 1.0781 - accuracy: 0.7623 - val_loss: 1.1577 - val_accuracy: 0.7400\n",
      "Epoch 4/20\n",
      "7982/7982 [==============================] - 1s 90us/sample - loss: 0.8568 - accuracy: 0.8182 - val_loss: 1.0500 - val_accuracy: 0.7670\n",
      "Epoch 5/20\n",
      "7982/7982 [==============================] - 1s 89us/sample - loss: 0.6833 - accuracy: 0.8577 - val_loss: 0.9794 - val_accuracy: 0.7850\n",
      "Epoch 6/20\n",
      "7982/7982 [==============================] - 1s 87us/sample - loss: 0.5457 - accuracy: 0.8854 - val_loss: 0.9372 - val_accuracy: 0.8020\n",
      "Epoch 7/20\n",
      "7982/7982 [==============================] - 1s 92us/sample - loss: 0.4399 - accuracy: 0.9077 - val_loss: 0.8980 - val_accuracy: 0.8090\n",
      "Epoch 8/20\n",
      "7982/7982 [==============================] - 1s 88us/sample - loss: 0.3580 - accuracy: 0.9253 - val_loss: 0.8920 - val_accuracy: 0.8120\n",
      "Epoch 9/20\n",
      "7982/7982 [==============================] - 1s 95us/sample - loss: 0.2976 - accuracy: 0.9341 - val_loss: 0.9108 - val_accuracy: 0.8070\n",
      "Epoch 10/20\n",
      "7982/7982 [==============================] - 1s 95us/sample - loss: 0.2466 - accuracy: 0.9409 - val_loss: 0.8949 - val_accuracy: 0.8130\n",
      "Epoch 11/20\n",
      "7982/7982 [==============================] - 1s 91us/sample - loss: 0.2124 - accuracy: 0.9488 - val_loss: 0.9138 - val_accuracy: 0.8080\n",
      "Epoch 12/20\n",
      "7982/7982 [==============================] - 1s 88us/sample - loss: 0.1917 - accuracy: 0.9506 - val_loss: 0.9590 - val_accuracy: 0.8050\n",
      "Epoch 13/20\n",
      "7982/7982 [==============================] - 1s 91us/sample - loss: 0.1653 - accuracy: 0.9541 - val_loss: 0.9462 - val_accuracy: 0.8160\n",
      "Epoch 14/20\n",
      "7982/7982 [==============================] - 1s 83us/sample - loss: 0.1522 - accuracy: 0.9534 - val_loss: 0.9612 - val_accuracy: 0.8170\n",
      "Epoch 15/20\n",
      "7982/7982 [==============================] - 1s 86us/sample - loss: 0.1423 - accuracy: 0.9545 - val_loss: 0.9990 - val_accuracy: 0.8080\n",
      "Epoch 16/20\n",
      "7982/7982 [==============================] - 1s 87us/sample - loss: 0.1349 - accuracy: 0.9572 - val_loss: 0.9825 - val_accuracy: 0.8100\n",
      "Epoch 17/20\n",
      "7982/7982 [==============================] - 1s 84us/sample - loss: 0.1288 - accuracy: 0.9577 - val_loss: 1.0322 - val_accuracy: 0.8080\n",
      "Epoch 18/20\n",
      "7982/7982 [==============================] - 1s 88us/sample - loss: 0.1203 - accuracy: 0.9574 - val_loss: 1.0813 - val_accuracy: 0.8010\n",
      "Epoch 19/20\n",
      "7982/7982 [==============================] - 1s 91us/sample - loss: 0.1209 - accuracy: 0.9565 - val_loss: 1.0750 - val_accuracy: 0.8070\n",
      "Epoch 20/20\n",
      "7982/7982 [==============================] - 1s 70us/sample - loss: 0.1141 - accuracy: 0.9580 - val_loss: 1.1168 - val_accuracy: 0.7990\n"
     ]
    }
   ],
   "source": [
    "history = model.fit(partial_x_train,\n",
    "                    partial_y_train,\n",
    "                    epochs=20,\n",
    "                    batch_size=512,\n",
    "                    validation_data=(x_val, y_val))"
   ]
  },
  {
   "cell_type": "code",
   "execution_count": 13,
   "metadata": {},
   "outputs": [
    {
     "data": {
      "image/png": "[encoded data removed]",
      "text/plain": [
       "<Figure size 432x288 with 1 Axes>"
      ]
     },
     "metadata": {
      "needs_background": "light"
     },
     "output_type": "display_data"
    }
   ],
   "source": [
    "import matplotlib.pyplot as plt\n",
    "\n",
    "loss = history.history['loss']\n",
    "val_loss = history.history['val_loss']\n",
    "\n",
    "epochs = range(1, len(loss) + 1)\n",
    "\n",
    "plt.plot(epochs, loss, 'bo', label='Training loss')\n",
    "plt.plot(epochs, val_loss, 'b', label='Validation loss')\n",
    "plt.title('Training and validation loss')\n",
    "plt.xlabel('Epochs')\n",
    "plt.ylabel('Loss')\n",
    "plt.legend()\n",
    "\n",
    "plt.show()"
   ]
  },
  {
   "cell_type": "code",
   "execution_count": 14,
   "metadata": {},
   "outputs": [
    {
     "data": {
      "image/png": "[encoded data removed]",
      "text/plain": [
       "<Figure size 432x288 with 1 Axes>"
      ]
     },
     "metadata": {
      "needs_background": "light"
     },
     "output_type": "display_data"
    }
   ],
   "source": [
    "plt.clf()   # clear figure\n",
    "\n",
    "acc = history.history['accuracy']\n",
    "val_acc = history.history['val_accuracy']\n",
    "\n",
    "plt.plot(epochs, acc, 'bo', label='Training acc')\n",
    "plt.plot(epochs, val_acc, 'b', label='Validation acc')\n",
    "plt.title('Training and validation accuracy')\n",
    "plt.xlabel('Epochs')\n",
    "plt.ylabel('acc')\n",
    "plt.legend()\n",
    "\n",
    "plt.show()"
   ]
  },
  {
   "cell_type": "markdown",
   "metadata": {},
   "source": [
    "Jupyter Notebook 3.6-classifying-newswires.ipynb choosed the epoch = 8 to run the network.\n",
    "This is the epoch after which the network starts overfitting because the validation accuracy decreases and training accuracy increase in a diverging fashion. "
   ]
  },
  {
   "cell_type": "code",
   "execution_count": 15,
   "metadata": {},
   "outputs": [
    {
     "name": "stdout",
     "output_type": "stream",
     "text": [
      "Train on 7982 samples, validate on 1000 samples\n",
      "Epoch 1/8\n",
      "7982/7982 [==============================] - 1s 167us/sample - loss: 2.5237 - accuracy: 0.5501 - val_loss: 1.6583 - val_accuracy: 0.6460\n",
      "Epoch 2/8\n",
      "7982/7982 [==============================] - 1s 97us/sample - loss: 1.3793 - accuracy: 0.7068 - val_loss: 1.2845 - val_accuracy: 0.7050\n",
      "Epoch 3/8\n",
      "7982/7982 [==============================] - 1s 85us/sample - loss: 1.0397 - accuracy: 0.7750 - val_loss: 1.1172 - val_accuracy: 0.7540\n",
      "Epoch 4/8\n",
      "7982/7982 [==============================] - 1s 79us/sample - loss: 0.8179 - accuracy: 0.8249 - val_loss: 1.0104 - val_accuracy: 0.7950\n",
      "Epoch 5/8\n",
      "7982/7982 [==============================] - 1s 79us/sample - loss: 0.6482 - accuracy: 0.8672 - val_loss: 0.9552 - val_accuracy: 0.8000\n",
      "Epoch 6/8\n",
      "7982/7982 [==============================] - 1s 79us/sample - loss: 0.5101 - accuracy: 0.8944 - val_loss: 0.9432 - val_accuracy: 0.7890\n",
      "Epoch 7/8\n",
      "7982/7982 [==============================] - 1s 82us/sample - loss: 0.4102 - accuracy: 0.9127 - val_loss: 0.9168 - val_accuracy: 0.8080\n",
      "Epoch 8/8\n",
      "7982/7982 [==============================] - 1s 63us/sample - loss: 0.3298 - accuracy: 0.9283 - val_loss: 0.9109 - val_accuracy: 0.8010\n"
     ]
    },
    {
     "data": {
      "text/plain": [
       "<tensorflow.python.keras.callbacks.History at 0x14fba2110>"
      ]
     },
     "execution_count": 15,
     "metadata": {},
     "output_type": "execute_result"
    }
   ],
   "source": [
    "# the model is migrated to tensorflow similar to above: \n",
    "model = tf.keras.models.Sequential([\n",
    "  tf.keras.layers.Dense(64, activation='relu',input_shape=(10000,)),\n",
    "  tf.keras.layers.Dense(64, activation='relu'),\n",
    "  tf.keras.layers.Dense(46, activation='softmax')\n",
    "])\n",
    "\n",
    "model.compile(optimizer='rmsprop',\n",
    "              loss=tf.keras.losses.CategoricalCrossentropy(),\n",
    "              metrics=['accuracy'])\n",
    "\n",
    "#  The epoch in the fit function is equal tp 8 to train a new network \n",
    "# from scratch for 8 epochs\n",
    "model.fit(partial_x_train,\n",
    "          partial_y_train,\n",
    "          epochs=8,\n",
    "          batch_size=512,\n",
    "          validation_data=(x_val, y_val))\n",
    "\n",
    "\n",
    "\n",
    "\n"
   ]
  },
  {
   "cell_type": "code",
   "execution_count": 16,
   "metadata": {},
   "outputs": [
    {
     "name": "stdout",
     "output_type": "stream",
     "text": [
      "2246/2246 [==============================] - 0s 54us/sample - loss: 1.0098 - accuracy: 0.7778\n",
      "\n",
      "Loss on test data, 1.0098355281384843 \n",
      "Accuracy on test data, 0.77782726\n"
     ]
    }
   ],
   "source": [
    "# Then the model performance is evaluated on the test data:\n",
    "    \n",
    "results = model.evaluate(x_test, one_hot_test_labels)\n",
    "\n",
    "# the results are printed: results include\n",
    "# loss and accuracy for the test data:\n",
    "print('\\nLoss on test data,', results[0],'\\nAccuracy on test data,', results[1])"
   ]
  },
  {
   "cell_type": "code",
   "execution_count": 17,
   "metadata": {},
   "outputs": [
    {
     "data": {
      "text/plain": [
       "0.18432769367764915"
      ]
     },
     "execution_count": 17,
     "metadata": {},
     "output_type": "execute_result"
    }
   ],
   "source": [
    "import copy\n",
    "\n",
    "test_labels_copy = copy.copy(test_labels)\n",
    "np.random.shuffle(test_labels_copy)\n",
    "float(np.sum(np.array(test_labels) == np.array(test_labels_copy))) / len(test_labels)"
   ]
  },
  {
   "cell_type": "code",
   "execution_count": 18,
   "metadata": {},
   "outputs": [],
   "source": [
    "# then the test lables are predicted, tensorflow has predict function\n",
    "predictions = model.predict(x_test)"
   ]
  },
  {
   "cell_type": "code",
   "execution_count": 19,
   "metadata": {},
   "outputs": [
    {
     "data": {
      "text/plain": [
       "(46,)"
      ]
     },
     "execution_count": 19,
     "metadata": {},
     "output_type": "execute_result"
    }
   ],
   "source": [
    "predictions[0].shape"
   ]
  },
  {
   "cell_type": "code",
   "execution_count": 20,
   "metadata": {},
   "outputs": [
    {
     "data": {
      "text/plain": [
       "1.0000004"
      ]
     },
     "execution_count": 20,
     "metadata": {},
     "output_type": "execute_result"
    }
   ],
   "source": [
    "np.sum(predictions[0])"
   ]
  },
  {
   "cell_type": "code",
   "execution_count": 21,
   "metadata": {},
   "outputs": [
    {
     "data": {
      "text/plain": [
       "3"
      ]
     },
     "execution_count": 21,
     "metadata": {},
     "output_type": "execute_result"
    }
   ],
   "source": [
    "np.argmax(predictions[0])"
   ]
  },
  {
   "cell_type": "code",
   "execution_count": 22,
   "metadata": {},
   "outputs": [],
   "source": [
    "y_train = np.array(train_labels)\n",
    "y_test = np.array(test_labels)"
   ]
  },
  {
   "cell_type": "code",
   "execution_count": 23,
   "metadata": {},
   "outputs": [],
   "source": [
    "# the model is compiled using tensorflow's sparse categorical cross entropy\n",
    "model.compile(optimizer='rmsprop', loss=tf.keras.losses.sparse_categorical_crossentropy, metrics=['accuracy'])\n"
   ]
  },
  {
   "cell_type": "code",
   "execution_count": 24,
   "metadata": {},
   "outputs": [
    {
     "name": "stdout",
     "output_type": "stream",
     "text": [
      "Train on 7982 samples, validate on 1000 samples\n",
      "Epoch 1/20\n",
      "7982/7982 [==============================] - 2s 192us/sample - loss: 1.8918 - accuracy: 0.6161 - val_loss: 1.3204 - val_accuracy: 0.6930\n",
      "Epoch 2/20\n",
      "7982/7982 [==============================] - 1s 138us/sample - loss: 0.9940 - accuracy: 0.7820 - val_loss: 1.0938 - val_accuracy: 0.7540\n",
      "Epoch 3/20\n",
      "7982/7982 [==============================] - 1s 128us/sample - loss: 0.6754 - accuracy: 0.8548 - val_loss: 0.9286 - val_accuracy: 0.8080\n",
      "Epoch 4/20\n",
      "7982/7982 [==============================] - 1s 180us/sample - loss: 0.4676 - accuracy: 0.9018 - val_loss: 0.9515 - val_accuracy: 0.8080\n",
      "Epoch 5/20\n",
      "7982/7982 [==============================] - 1s 133us/sample - loss: 0.3370 - accuracy: 0.9268 - val_loss: 0.9126 - val_accuracy: 0.8090\n",
      "Epoch 6/20\n",
      "7982/7982 [==============================] - 1s 127us/sample - loss: 0.2605 - accuracy: 0.9400 - val_loss: 0.8957 - val_accuracy: 0.8200\n",
      "Epoch 7/20\n",
      "7982/7982 [==============================] - 1s 130us/sample - loss: 0.2120 - accuracy: 0.9480 - val_loss: 0.9760 - val_accuracy: 0.8160\n",
      "Epoch 8/20\n",
      "7982/7982 [==============================] - 1s 124us/sample - loss: 0.1833 - accuracy: 0.9509 - val_loss: 0.9262 - val_accuracy: 0.8240\n",
      "Epoch 9/20\n",
      "7982/7982 [==============================] - 1s 114us/sample - loss: 0.1657 - accuracy: 0.9519 - val_loss: 1.0117 - val_accuracy: 0.8000\n",
      "Epoch 10/20\n",
      "7982/7982 [==============================] - 1s 118us/sample - loss: 0.1501 - accuracy: 0.9553 - val_loss: 0.9998 - val_accuracy: 0.8110\n",
      "Epoch 11/20\n",
      "7982/7982 [==============================] - 1s 121us/sample - loss: 0.1380 - accuracy: 0.9575 - val_loss: 1.0001 - val_accuracy: 0.8190\n",
      "Epoch 12/20\n",
      "7982/7982 [==============================] - 1s 122us/sample - loss: 0.1344 - accuracy: 0.9563 - val_loss: 1.0840 - val_accuracy: 0.8050\n",
      "Epoch 13/20\n",
      "7982/7982 [==============================] - 1s 121us/sample - loss: 0.1276 - accuracy: 0.9563 - val_loss: 1.1154 - val_accuracy: 0.8060\n",
      "Epoch 14/20\n",
      "7982/7982 [==============================] - 1s 118us/sample - loss: 0.1254 - accuracy: 0.9555 - val_loss: 1.1516 - val_accuracy: 0.8070\n",
      "Epoch 15/20\n",
      "7982/7982 [==============================] - 1s 120us/sample - loss: 0.1149 - accuracy: 0.9559 - val_loss: 1.1243 - val_accuracy: 0.8080\n",
      "Epoch 16/20\n",
      "7982/7982 [==============================] - 1s 122us/sample - loss: 0.1182 - accuracy: 0.9560 - val_loss: 1.2055 - val_accuracy: 0.7960\n",
      "Epoch 17/20\n",
      "7982/7982 [==============================] - 1s 121us/sample - loss: 0.1124 - accuracy: 0.9568 - val_loss: 1.1190 - val_accuracy: 0.8070\n",
      "Epoch 18/20\n",
      "7982/7982 [==============================] - 1s 125us/sample - loss: 0.1097 - accuracy: 0.9558 - val_loss: 1.2037 - val_accuracy: 0.7970\n",
      "Epoch 19/20\n",
      "7982/7982 [==============================] - 1s 125us/sample - loss: 0.1071 - accuracy: 0.9569 - val_loss: 1.2153 - val_accuracy: 0.7970\n",
      "Epoch 20/20\n",
      "7982/7982 [==============================] - 1s 118us/sample - loss: 0.1048 - accuracy: 0.9562 - val_loss: 1.2638 - val_accuracy: 0.7940\n",
      "2246/2246 [==============================] - 0s 59us/sample - loss: 1.5160 - accuracy: 0.7725\n",
      "[1.5159851487789002, 0.7724844]\n"
     ]
    }
   ],
   "source": [
    "\n",
    "# here notebook 3.6 is experimenting by making the bachsize = 128\n",
    "model = tf.keras.models.Sequential([\n",
    "  tf.keras.layers.Dense(64, activation='relu',input_shape=(10000,)),\n",
    "  tf.keras.layers.Dense(64, activation='relu'),\n",
    "  tf.keras.layers.Dense(46, activation='softmax')\n",
    "])\n",
    "\n",
    "model.compile(optimizer='rmsprop',\n",
    "              loss=tf.keras.losses.CategoricalCrossentropy(),\n",
    "              metrics=['accuracy'])\n",
    "\n",
    "\n",
    "model.fit(partial_x_train,\n",
    "          partial_y_train,\n",
    "          epochs=20,\n",
    "          batch_size=128,\n",
    "          validation_data=(x_val, y_val))\n",
    "results = model.evaluate(x_test, one_hot_test_labels)\n",
    "\n",
    "print(results)"
   ]
  },
  {
   "cell_type": "markdown",
   "metadata": {},
   "source": [
    "Determining the optimal number of epochs by training the model with one training set of 7982 samples and one validation set of 1000 samples. Runing with  model for 20 epochs.\n"
   ]
  },
  {
   "cell_type": "code",
   "execution_count": 26,
   "metadata": {},
   "outputs": [
    {
     "data": {
      "text/plain": [
       "8982"
      ]
     },
     "execution_count": 26,
     "metadata": {},
     "output_type": "execute_result"
    }
   ],
   "source": [
    "len(x_train)"
   ]
  },
  {
   "cell_type": "markdown",
   "metadata": {},
   "source": [
    "x_train has 8982 records, the first 1000 records is used for validation and the remaing (8982 -1000 = 7982) is used for training the model. Similarly for labels. "
   ]
  },
  {
   "cell_type": "code",
   "execution_count": 40,
   "metadata": {},
   "outputs": [],
   "source": [
    "x_val = x_train[:1000]\n",
    "partial_x_train = x_train[1000:]\n",
    "\n",
    "y_val = one_hot_train_labels[:1000]\n",
    "partial_y_train = one_hot_train_labels[1000:]"
   ]
  },
  {
   "cell_type": "code",
   "execution_count": 41,
   "metadata": {},
   "outputs": [],
   "source": [
    "model = tf.keras.models.Sequential([\n",
    "  tf.keras.layers.Dense(64, activation='relu',input_shape=(10000,)),\n",
    "  tf.keras.layers.Dense(64, activation='relu'),\n",
    "  tf.keras.layers.Dense(46, activation='softmax')\n",
    "])\n",
    "model.compile(optimizer='rmsprop',\n",
    "              loss=tf.keras.losses.CategoricalCrossentropy(),\n",
    "              metrics=['accuracy'])"
   ]
  },
  {
   "cell_type": "code",
   "execution_count": 42,
   "metadata": {},
   "outputs": [
    {
     "name": "stdout",
     "output_type": "stream",
     "text": [
      "Train on 7982 samples, validate on 1000 samples\n",
      "Epoch 1/20\n",
      "7982/7982 [==============================] - 1s 150us/sample - loss: 2.5562 - accuracy: 0.5247 - val_loss: 1.7064 - val_accuracy: 0.6380\n",
      "Epoch 2/20\n",
      "7982/7982 [==============================] - 1s 93us/sample - loss: 1.3926 - accuracy: 0.7062 - val_loss: 1.2852 - val_accuracy: 0.7200\n",
      "Epoch 3/20\n",
      "7982/7982 [==============================] - 1s 92us/sample - loss: 1.0393 - accuracy: 0.7754 - val_loss: 1.1176 - val_accuracy: 0.7500\n",
      "Epoch 4/20\n",
      "7982/7982 [==============================] - 1s 89us/sample - loss: 0.8188 - accuracy: 0.8208 - val_loss: 1.0038 - val_accuracy: 0.7810\n",
      "Epoch 5/20\n",
      "7982/7982 [==============================] - 1s 82us/sample - loss: 0.6512 - accuracy: 0.8628 - val_loss: 0.9720 - val_accuracy: 0.7880\n",
      "Epoch 6/20\n",
      "7982/7982 [==============================] - 1s 85us/sample - loss: 0.5187 - accuracy: 0.8896 - val_loss: 0.9706 - val_accuracy: 0.7870\n",
      "Epoch 7/20\n",
      "7982/7982 [==============================] - 1s 82us/sample - loss: 0.4194 - accuracy: 0.9088 - val_loss: 0.8770 - val_accuracy: 0.8150\n",
      "Epoch 8/20\n",
      "7982/7982 [==============================] - 1s 84us/sample - loss: 0.3400 - accuracy: 0.9272 - val_loss: 0.8732 - val_accuracy: 0.8200\n",
      "Epoch 9/20\n",
      "7982/7982 [==============================] - 1s 84us/sample - loss: 0.2778 - accuracy: 0.9401 - val_loss: 0.9429 - val_accuracy: 0.7960\n",
      "Epoch 10/20\n",
      "7982/7982 [==============================] - 1s 85us/sample - loss: 0.2402 - accuracy: 0.9427 - val_loss: 0.9084 - val_accuracy: 0.8180\n",
      "Epoch 11/20\n",
      "7982/7982 [==============================] - 1s 86us/sample - loss: 0.2031 - accuracy: 0.9488 - val_loss: 0.8670 - val_accuracy: 0.8290\n",
      "Epoch 12/20\n",
      "7982/7982 [==============================] - 1s 85us/sample - loss: 0.1794 - accuracy: 0.9521 - val_loss: 0.8996 - val_accuracy: 0.8240\n",
      "Epoch 13/20\n",
      "7982/7982 [==============================] - 1s 82us/sample - loss: 0.1621 - accuracy: 0.9535 - val_loss: 0.9166 - val_accuracy: 0.8220\n",
      "Epoch 14/20\n",
      "7982/7982 [==============================] - 1s 85us/sample - loss: 0.1473 - accuracy: 0.9540 - val_loss: 0.9490 - val_accuracy: 0.8190\n",
      "Epoch 15/20\n",
      "7982/7982 [==============================] - 1s 88us/sample - loss: 0.1364 - accuracy: 0.9549 - val_loss: 0.9363 - val_accuracy: 0.8200\n",
      "Epoch 16/20\n",
      "7982/7982 [==============================] - 1s 88us/sample - loss: 0.1293 - accuracy: 0.9568 - val_loss: 1.0394 - val_accuracy: 0.8040\n",
      "Epoch 17/20\n",
      "7982/7982 [==============================] - 1s 88us/sample - loss: 0.1266 - accuracy: 0.9567 - val_loss: 1.0084 - val_accuracy: 0.8130\n",
      "Epoch 18/20\n",
      "7982/7982 [==============================] - 1s 86us/sample - loss: 0.1202 - accuracy: 0.9579 - val_loss: 1.0187 - val_accuracy: 0.8140\n",
      "Epoch 19/20\n",
      "7982/7982 [==============================] - 1s 87us/sample - loss: 0.1134 - accuracy: 0.9563 - val_loss: 1.0240 - val_accuracy: 0.8220\n",
      "Epoch 20/20\n",
      "7982/7982 [==============================] - 1s 66us/sample - loss: 0.1119 - accuracy: 0.9578 - val_loss: 1.0678 - val_accuracy: 0.8070\n"
     ]
    }
   ],
   "source": [
    "history = model.fit(partial_x_train,\n",
    "                    partial_y_train,\n",
    "                    epochs=20,\n",
    "                    batch_size=512,\n",
    "                    validation_data=(x_val, y_val))"
   ]
  },
  {
   "cell_type": "code",
   "execution_count": 52,
   "metadata": {},
   "outputs": [
    {
     "name": "stdout",
     "output_type": "stream",
     "text": [
      "The validatoion accuracy after running for 20 epochs is 0.8070\n"
     ]
    }
   ],
   "source": [
    "print('The validatoion accuracy after running for 20 epochs is 0.8070' )"
   ]
  },
  {
   "cell_type": "code",
   "execution_count": 44,
   "metadata": {},
   "outputs": [
    {
     "name": "stdout",
     "output_type": "stream",
     "text": [
      "2246/2246 [==============================] - 0s 59us/sample - loss: 1.2139 - accuracy: 0.7854\n",
      "\n",
      "Loss on test data after running for 20 epochs, 1.213893431377326 \n",
      "Accuracy on test data after running for 20 epochs, 0.7853963\n"
     ]
    }
   ],
   "source": [
    "# Then the model performance is evaluated on the test data:\n",
    "    \n",
    "results = model.evaluate(x_test, one_hot_test_labels)\n",
    "\n",
    "# the results are printed: results include\n",
    "# loss and accuracy for the test data:\n",
    "print('\\nLoss on test data after running for 20 epochs,', results[0],'\\nAccuracy on test data after running for 20 epochs,', results[1])\n"
   ]
  },
  {
   "cell_type": "code",
   "execution_count": 45,
   "metadata": {},
   "outputs": [
    {
     "data": {
      "image/png": "[encoded data removed]",
      "text/plain": [
       "<Figure size 432x288 with 1 Axes>"
      ]
     },
     "metadata": {
      "needs_background": "light"
     },
     "output_type": "display_data"
    }
   ],
   "source": [
    "import matplotlib.pyplot as plt\n",
    "\n",
    "loss = history.history['loss']\n",
    "val_loss = history.history['val_loss']\n",
    "\n",
    "epochs = range(1, len(loss) + 1)\n",
    "\n",
    "plt.plot(epochs, loss, 'bo', label='Training loss')\n",
    "plt.plot(epochs, val_loss, 'b', label='Validation loss')\n",
    "plt.title('Training and validation loss')\n",
    "plt.xlabel('Epochs')\n",
    "plt.ylabel('Loss')\n",
    "plt.legend()\n",
    "\n",
    "plt.show()"
   ]
  },
  {
   "cell_type": "code",
   "execution_count": 46,
   "metadata": {},
   "outputs": [
    {
     "data": {
      "image/png": "[encoded data removed]",
      "text/plain": [
       "<Figure size 432x288 with 1 Axes>"
      ]
     },
     "metadata": {
      "needs_background": "light"
     },
     "output_type": "display_data"
    }
   ],
   "source": [
    "plt.clf()   # clear figure\n",
    "\n",
    "acc = history.history['accuracy']\n",
    "val_acc = history.history['val_accuracy']\n",
    "\n",
    "plt.plot(epochs, acc, 'bo', label='Training acc')\n",
    "plt.plot(epochs, val_acc, 'b', label='Validation acc')\n",
    "plt.title('Training and validation accuracy')\n",
    "plt.xlabel('Epochs')\n",
    "plt.ylabel('Accuracy')\n",
    "plt.legend()\n",
    "\n",
    "plt.show()"
   ]
  },
  {
   "cell_type": "code",
   "execution_count": 47,
   "metadata": {},
   "outputs": [
    {
     "data": {
      "text/plain": [
       "[0.638,\n",
       " 0.72,\n",
       " 0.75,\n",
       " 0.781,\n",
       " 0.788,\n",
       " 0.787,\n",
       " 0.815,\n",
       " 0.82,\n",
       " 0.796,\n",
       " 0.818,\n",
       " 0.829,\n",
       " 0.824,\n",
       " 0.822,\n",
       " 0.819,\n",
       " 0.82,\n",
       " 0.804,\n",
       " 0.813,\n",
       " 0.814,\n",
       " 0.822,\n",
       " 0.807]"
      ]
     },
     "execution_count": 47,
     "metadata": {},
     "output_type": "execute_result"
    }
   ],
   "source": [
    "val_acc"
   ]
  },
  {
   "cell_type": "markdown",
   "metadata": {},
   "source": [
    "Determining the optimal number of epochs and report the accuracy of the model when trained with the optimal number of epochs.\n"
   ]
  },
  {
   "cell_type": "markdown",
   "metadata": {},
   "source": [
    "- Based on the printed history and the figures above, the val_accuracy and training accuracy seem be diverging around 8 and 9. after epoch 8 or 9 the model is slighly overfitting. this is where the validation accuracy is peaked and the validation loss is at minimum. Therefor,  the optimal number of epoch is 8 , and I reruning the network for epoch = 8 \n",
    "\n"
   ]
  },
  {
   "cell_type": "code",
   "execution_count": 48,
   "metadata": {},
   "outputs": [
    {
     "data": {
      "image/png": "[encoded data removed]",
      "text/plain": [
       "<Figure size 432x288 with 1 Axes>"
      ]
     },
     "metadata": {
      "needs_background": "light"
     },
     "output_type": "display_data"
    }
   ],
   "source": [
    "plt.clf()   # clear figure\n",
    "\n",
    "acc = history.history['accuracy']\n",
    "val_acc = history.history['val_accuracy']\n",
    "epochs = range(1, 10)\n",
    "plt.plot(epochs, acc[:9], 'bo', label='Training acc')\n",
    "plt.plot(epochs, val_acc[:9], 'b', label='Validation acc')\n",
    "plt.title('Training and validation accuracy')\n",
    "plt.xlabel('Epochs')\n",
    "plt.ylabel('acc')\n",
    "plt.legend()\n",
    "\n",
    "plt.show()"
   ]
  },
  {
   "cell_type": "code",
   "execution_count": null,
   "metadata": {
    "scrolled": false
   },
   "outputs": [],
   "source": []
  },
  {
   "cell_type": "code",
   "execution_count": 49,
   "metadata": {},
   "outputs": [
    {
     "data": {
      "image/png": "[encoded data removed]",
      "text/plain": [
       "<Figure size 432x288 with 1 Axes>"
      ]
     },
     "metadata": {
      "needs_background": "light"
     },
     "output_type": "display_data"
    }
   ],
   "source": [
    "import matplotlib.pyplot as plt\n",
    "\n",
    "loss = history.history['loss']\n",
    "val_loss = history.history['val_loss']\n",
    "\n",
    "epochs = range(1, 10)\n",
    "\n",
    "plt.plot(epochs, loss[:9], 'bo', label='Training loss')\n",
    "plt.plot(epochs, val_loss[:9], 'b', label='Validation loss')\n",
    "plt.title('Training and validation loss')\n",
    "plt.xlabel('Epochs')\n",
    "plt.ylabel('Loss')\n",
    "plt.legend()\n",
    "\n",
    "plt.show()"
   ]
  },
  {
   "cell_type": "code",
   "execution_count": 50,
   "metadata": {},
   "outputs": [
    {
     "name": "stdout",
     "output_type": "stream",
     "text": [
      "Train on 7982 samples, validate on 1000 samples\n",
      "Epoch 1/8\n",
      "7982/7982 [==============================] - 1s 140us/sample - loss: 2.5189 - accuracy: 0.5306 - val_loss: 1.6561 - val_accuracy: 0.6490\n",
      "Epoch 2/8\n",
      "7982/7982 [==============================] - 1s 86us/sample - loss: 1.3875 - accuracy: 0.7108 - val_loss: 1.2902 - val_accuracy: 0.7240\n",
      "Epoch 3/8\n",
      "7982/7982 [==============================] - 1s 89us/sample - loss: 1.0414 - accuracy: 0.7772 - val_loss: 1.1147 - val_accuracy: 0.7580\n",
      "Epoch 4/8\n",
      "7982/7982 [==============================] - 1s 95us/sample - loss: 0.8184 - accuracy: 0.8241 - val_loss: 1.0649 - val_accuracy: 0.7600\n",
      "Epoch 5/8\n",
      "7982/7982 [==============================] - 1s 87us/sample - loss: 0.6494 - accuracy: 0.8606 - val_loss: 0.9572 - val_accuracy: 0.7980\n",
      "Epoch 6/8\n",
      "7982/7982 [==============================] - 1s 87us/sample - loss: 0.5185 - accuracy: 0.8886 - val_loss: 0.8974 - val_accuracy: 0.8110\n",
      "Epoch 7/8\n",
      "7982/7982 [==============================] - 1s 90us/sample - loss: 0.4178 - accuracy: 0.9122 - val_loss: 0.9039 - val_accuracy: 0.8130\n",
      "Epoch 8/8\n",
      "7982/7982 [==============================] - 1s 64us/sample - loss: 0.3393 - accuracy: 0.9302 - val_loss: 0.9008 - val_accuracy: 0.8010\n"
     ]
    },
    {
     "data": {
      "text/plain": [
       "<tensorflow.python.keras.callbacks.History at 0x188570d90>"
      ]
     },
     "execution_count": 50,
     "metadata": {},
     "output_type": "execute_result"
    }
   ],
   "source": [
    "model = tf.keras.models.Sequential([\n",
    "  tf.keras.layers.Dense(64, activation='relu',input_shape=(10000,)),\n",
    "  tf.keras.layers.Dense(64, activation='relu'),\n",
    "  tf.keras.layers.Dense(46, activation='softmax')\n",
    "])\n",
    "\n",
    "model.compile(optimizer='rmsprop',\n",
    "              loss=tf.keras.losses.CategoricalCrossentropy(),\n",
    "              metrics=['accuracy'])\n",
    "\n",
    "x_val = x_train[:1000]\n",
    "partial_x_train = x_train[1000:]\n",
    "\n",
    "y_val = one_hot_train_labels[:1000]\n",
    "partial_y_train = one_hot_train_labels[1000:]\n",
    "\n",
    "# I choose epoch = 8 because accuracy peaks at this point and loss is also the minumum\n",
    "model.fit(partial_x_train,\n",
    "                    partial_y_train,\n",
    "                    epochs=8,\n",
    "                    batch_size=512,\n",
    "                    validation_data=(x_val, y_val))\n"
   ]
  },
  {
   "cell_type": "code",
   "execution_count": 51,
   "metadata": {},
   "outputs": [
    {
     "name": "stdout",
     "output_type": "stream",
     "text": [
      "2246/2246 [==============================] - 0s 67us/sample - loss: 0.9927 - accuracy: 0.7818\n",
      "\n",
      "Loss on test data after running for 8 epochs, 0.9926807719049768 \n",
      "Accuracy on test data after running for 8 epochs, 0.78183436\n"
     ]
    }
   ],
   "source": [
    "# Then the model performance is evaluated on the test data:\n",
    "    \n",
    "results = model.evaluate(x_test, one_hot_test_labels)\n",
    "\n",
    "# the results are printed: results include\n",
    "# loss and accuracy for the test data:\n",
    "print('\\nLoss on test data after running for 8 epochs,', \n",
    "      results[0],'\\nAccuracy on test data after running for 8 epochs,', results[1])\n"
   ]
  },
  {
   "cell_type": "markdown",
   "metadata": {},
   "source": [
    "# Personal Computer information:\n",
    "    - processor: 2.3 GHz Intel Core i9, it has 8 cores\n",
    "    - Graphics:Intel UHD Graphics 630 1536 MB\n",
    "    - Memory: 16 GB 2400 MHz DDR4\n",
    "    - no GPUs\n",
    "        "
   ]
  },
  {
   "cell_type": "markdown",
   "metadata": {},
   "source": [
    "# AWS Computer Information:\n",
    "- runing above code on an AMI on AWS. Deep Learning AMI (Amazon Linux) Version 26.0 - ami-02bd97932dabc037b or Deep Learning AMI (Ubuntu 18.04) Version 26.0 - ami-0698bcaf8bd9ef56d. Select a machine with 8 or 16 CPU-s. make sure you stop and terminate your instance in AWS. "
   ]
  },
  {
   "cell_type": "markdown",
   "metadata": {},
   "source": [
    "# Comparison:\n",
    "- The Execution Time of AWS was 18.6922471523284 seconds, and the my computer's exetution time is 27.833515882492065 seconds. AWS takes ~ 9.1413 seconds less than my computer. \n",
    "\n"
   ]
  },
  {
   "cell_type": "markdown",
   "metadata": {},
   "source": [
    "Determining the accuracy of the model using 4 fold validation. \n",
    "\n",
    "\n",
    "- Model accuracy should be considered the average accuracy of all 4 training runs with one of 4 validation sets. Compare this accuracy with the accuracy obtain in Problem 2.\n"
   ]
  },
  {
   "cell_type": "code",
   "execution_count": 56,
   "metadata": {},
   "outputs": [],
   "source": [
    "#  a function is creating for building model that includes the tensorflow nework \n",
    "# and the compile function of model\n",
    "\n",
    "\n",
    "def build_model():\n",
    "\n",
    "    # Because we will need to instantiate\n",
    "    # the same model multiple times,\n",
    "    # we use a function to construct it.\n",
    "    model = tf.keras.models.Sequential([\n",
    "    tf.keras.layers.Dense(64, activation='relu',input_shape=(10000,)),\n",
    "    tf.keras.layers.Dense(64, activation='relu'),\n",
    "    tf.keras.layers.Dense(46, activation='softmax')\n",
    "    ])\n",
    "    model.compile(optimizer='rmsprop',\n",
    "              loss=tf.keras.losses.CategoricalCrossentropy(),\n",
    "              metrics=['accuracy'])\n",
    "    return model"
   ]
  },
  {
   "cell_type": "code",
   "execution_count": 57,
   "metadata": {},
   "outputs": [
    {
     "name": "stdout",
     "output_type": "stream",
     "text": [
      "processing fold # 0\n",
      "processing fold # 1\n",
      "processing fold # 2\n",
      "processing fold # 3\n"
     ]
    }
   ],
   "source": [
    "#  the samples in x_train is divided into 4 sections,\n",
    "# and in each iteration one of the 4 sections is the validation set\n",
    "\n",
    "\n",
    "k = 4\n",
    "num_val_samples = len(x_train) // k\n",
    "num_epochs = 8\n",
    "all_scores = []\n",
    "all_loss =[]\n",
    "for i in range(k):\n",
    "    print('processing fold #', i)\n",
    "    # Prepare the validation data: data from partition # k\n",
    "    val_data = x_train[i * num_val_samples: (i + 1) * num_val_samples]\n",
    "    val_targets = one_hot_train_labels[i * num_val_samples: (i + 1) * num_val_samples]\n",
    "    # Prepare the training data: data from all other partitions\n",
    "    partial_train_data = np.concatenate(\n",
    "        [x_train[:i * num_val_samples],\n",
    "         x_train[(i + 1) * num_val_samples:]],\n",
    "        axis=0)\n",
    "    partial_train_targets = np.concatenate(\n",
    "        [one_hot_train_labels[:i * num_val_samples],\n",
    "         one_hot_train_labels[(i + 1) * num_val_samples:]],\n",
    "        axis=0)\n",
    "    # Build the Keras model (already compiled)\n",
    "    model = build_model()\n",
    "    # Train the model (in silent mode, verbose=0)\n",
    "    model.fit(partial_train_data, partial_train_targets,\n",
    "              epochs=num_epochs, \n",
    "              batch_size=512, verbose=0)\n",
    "    # Evaluate the model on the validation data\n",
    "    val_loss, val_accuracy = model.evaluate(val_data, val_targets,verbose=0)\n",
    "    all_scores.append(val_accuracy)\n",
    "    all_loss.append(val_loss)"
   ]
  },
  {
   "cell_type": "code",
   "execution_count": 59,
   "metadata": {},
   "outputs": [
    {
     "data": {
      "image/png": "[encoded data removed]",
      "text/plain": [
       "<Figure size 432x288 with 1 Axes>"
      ]
     },
     "metadata": {
      "needs_background": "light"
     },
     "output_type": "display_data"
    }
   ],
   "source": [
    "plt.clf()   # clear figure\n",
    "acc = all_scores\n",
    "loss = all_loss\n",
    "fold = range(1, k+1)\n",
    "plt.plot(fold, acc, 'bo', label='accuraracy of validation fold', color = 'blue')\n",
    "plt.plot(fold, loss, 'bo', label='loss of validation fold', color = 'red')\n",
    "plt.title('acc vs loss')\n",
    "plt.xlabel('folds')\n",
    "plt.ylabel('')\n",
    "plt.legend()\n",
    "plt.show()"
   ]
  },
  {
   "cell_type": "code",
   "execution_count": 60,
   "metadata": {},
   "outputs": [
    {
     "name": "stdout",
     "output_type": "stream",
     "text": [
      "[0.7902005, 0.77594656, 0.79376394, 0.7910913]\n"
     ]
    }
   ],
   "source": [
    "print(all_scores)"
   ]
  },
  {
   "cell_type": "code",
   "execution_count": 61,
   "metadata": {},
   "outputs": [
    {
     "name": "stdout",
     "output_type": "stream",
     "text": [
      "[1.0028977436583928, 1.0217322803818039, 0.978090415831929, 0.9649891370123372]\n"
     ]
    }
   ],
   "source": [
    "print(all_loss)"
   ]
  },
  {
   "cell_type": "code",
   "execution_count": 63,
   "metadata": {},
   "outputs": [
    {
     "name": "stdout",
     "output_type": "stream",
     "text": [
      "0.7877506\n"
     ]
    }
   ],
   "source": [
    "kfold_accuracy = np.mean(all_scores)\n",
    "print(kfold_accuracy)"
   ]
  },
  {
   "cell_type": "markdown",
   "metadata": {},
   "source": [
    "kfold model's accuracy is the mean value amongst the 4 validatoion folds and is equal to 0.7877506.\n",
    "\n",
    "previous model (without 4fold) val_accuracy for the 8th epoch is equal to 0.8010. so it has a slightly higher validation accuracy than the average of 4 fold validatoion accuracies"
   ]
  },
  {
   "cell_type": "markdown",
   "metadata": {},
   "source": [
    "# using of L2 regularization on the optimal number of epochs. \n",
    "- Lambda: 0.001, 0.005 and 0.0005. \n",
    "- the optimal number of epochs dependence on the varying regularization parameter as a small table and a small plot.\n"
   ]
  },
  {
   "cell_type": "code",
   "execution_count": 68,
   "metadata": {},
   "outputs": [],
   "source": [
    "from tensorflow.keras import regularizers\n",
    "\n",
    "# I created  a grid of lambdas and epochs, and for each combination the model is trained and \n",
    "# the accuracy and loss of the x_test is recorded. the figures show how accuracy and loss change \n",
    "# at each combination of the lambdas and epochs\n",
    "\n",
    "\n",
    "lambdas = [0.001, 0.005, 0.0005]\n",
    "epochs = range(1, 21)\n",
    "all_results = []\n",
    "for lamb in lambdas:\n",
    "    for epoch in epochs:\n",
    "        \n",
    "        model = tf.keras.models.Sequential([\n",
    "        tf.keras.layers.Dense(64,kernel_regularizer=regularizers.l2(lamb), activation='relu',input_shape=(10000,)),\n",
    "        tf.keras.layers.Dense(64,kernel_regularizer=regularizers.l2(lamb), activation='relu'),\n",
    "        tf.keras.layers.Dense(46, activation='softmax')])\n",
    "\n",
    "        model.compile(optimizer='rmsprop',\n",
    "                  loss=tf.keras.losses.CategoricalCrossentropy(),\n",
    "                  metrics=['accuracy'])\n",
    "\n",
    "        x_val = x_train[:1000]\n",
    "        partial_x_train = x_train[1000:]\n",
    "\n",
    "        y_val = one_hot_train_labels[:1000]\n",
    "        partial_y_train = one_hot_train_labels[1000:]\n",
    "\n",
    "        \n",
    "        model.fit(partial_x_train,\n",
    "                        partial_y_train,\n",
    "                        epochs=epoch,\n",
    "                        batch_size=512,\n",
    "                        validation_data=(x_val, y_val), verbose = 0)\n",
    "        all_results.append([lamb, epoch, model.evaluate(x_test, one_hot_test_labels, verbose = 0)[0],\n",
    "                            model.evaluate(x_test, one_hot_test_labels, verbose = 0)[1]])\n",
    "    \n",
    "    "
   ]
  },
  {
   "cell_type": "code",
   "execution_count": 69,
   "metadata": {
    "scrolled": false
   },
   "outputs": [
    {
     "name": "stdout",
     "output_type": "stream",
     "text": [
      "    lamdas  epochs      loss  accuracy\n",
      "0   0.0010       1  1.952383  0.632235\n",
      "1   0.0010       2  1.575384  0.695459\n",
      "2   0.0010       3  1.362219  0.741318\n",
      "3   0.0010       4  1.308825  0.745325\n",
      "4   0.0010       5  1.294977  0.746216\n",
      "5   0.0010       6  1.212644  0.766251\n",
      "6   0.0010       7  1.196906  0.771594\n",
      "7   0.0010       8  1.184103  0.780053\n",
      "8   0.0010       9  1.187723  0.781389\n",
      "9   0.0010      10  1.172175  0.780944\n",
      "10  0.0010      11  1.141254  0.794746\n",
      "11  0.0010      12  1.141597  0.787622\n",
      "12  0.0010      13  1.151431  0.793410\n",
      "13  0.0010      14  1.187960  0.776937\n",
      "14  0.0010      15  1.164207  0.790294\n",
      "15  0.0010      16  1.201550  0.775601\n",
      "16  0.0010      17  1.161911  0.789849\n",
      "17  0.0010      18  1.151393  0.795637\n",
      "18  0.0010      19  1.238828  0.773375\n",
      "19  0.0010      20  1.207451  0.778273\n",
      "20  0.0050       1  2.343842  0.617542\n",
      "21  0.0050       2  1.897145  0.679875\n",
      "22  0.0050       3  1.743693  0.714604\n",
      "23  0.0050       4  1.685281  0.717720\n",
      "24  0.0050       5  1.611165  0.743544\n",
      "25  0.0050       6  1.557205  0.743544\n",
      "26  0.0050       7  1.536725  0.757346\n",
      "27  0.0050       8  1.510120  0.768032\n",
      "28  0.0050       9  1.516726  0.758237\n",
      "29  0.0050      10  1.480994  0.762689\n",
      "30  0.0050      11  1.462377  0.761799\n",
      "31  0.0050      12  1.464384  0.782280\n",
      "32  0.0050      13  1.463755  0.767142\n",
      "33  0.0050      14  1.473151  0.756456\n",
      "34  0.0050      15  1.433094  0.767142\n",
      "35  0.0050      16  1.446451  0.771594\n",
      "36  0.0050      17  1.434120  0.780944\n",
      "37  0.0050      18  1.430739  0.768032\n",
      "38  0.0050      19  1.490589  0.742654\n",
      "39  0.0050      20  1.415415  0.771149\n",
      "40  0.0005       1  1.886474  0.644702\n",
      "41  0.0005       2  1.445903  0.708370\n",
      "42  0.0005       3  1.319397  0.731523\n",
      "43  0.0005       4  1.230120  0.753784\n",
      "44  0.0005       5  1.160835  0.761799\n",
      "45  0.0005       6  1.121627  0.777382\n",
      "46  0.0005       7  1.129988  0.768923\n",
      "47  0.0005       8  1.088709  0.782280\n",
      "48  0.0005       9  1.069068  0.790739\n",
      "49  0.0005      10  1.089590  0.790739\n",
      "50  0.0005      11  1.084435  0.789849\n",
      "51  0.0005      12  1.085526  0.797418\n",
      "52  0.0005      13  1.105102  0.783615\n",
      "53  0.0005      14  1.084666  0.800089\n",
      "54  0.0005      15  1.102429  0.791630\n",
      "55  0.0005      16  1.173280  0.778718\n",
      "56  0.0005      17  1.110205  0.792520\n",
      "57  0.0005      18  1.144380  0.783615\n",
      "58  0.0005      19  1.113063  0.791630\n",
      "59  0.0005      20  1.133045  0.788513\n"
     ]
    }
   ],
   "source": [
    "import pandas as pd\n",
    "all_results_df  = pd.DataFrame(all_results)\n",
    "all_results_df = all_results_df.rename(columns= {0:'lamdas', 1:'epochs', 2: 'loss', 3: 'accuracy'})\n",
    "print(all_results_df)"
   ]
  },
  {
   "cell_type": "code",
   "execution_count": 70,
   "metadata": {},
   "outputs": [
    {
     "data": {
      "image/png": "[encoded data removed]",
      "text/plain": [
       "<Figure size 432x288 with 1 Axes>"
      ]
     },
     "metadata": {
      "needs_background": "light"
     },
     "output_type": "display_data"
    }
   ],
   "source": [
    "plt.clf()   # clear figure\n",
    "\n",
    "plt.plot(all_results_df.loc[all_results_df['lamdas']==lambdas[0],'epochs' ], all_results_df.loc[all_results_df['lamdas']==lambdas[0],'accuracy' ], 'b', label='lambda = 0.001', color = 'blue')\n",
    "plt.plot(all_results_df.loc[all_results_df['lamdas']==lambdas[0],'epochs' ], all_results_df.loc[all_results_df['lamdas']==lambdas[1],'accuracy' ], 'b', label='lambda = 0.005', color = 'red')\n",
    "plt.plot(all_results_df.loc[all_results_df['lamdas']==lambdas[0],'epochs' ], all_results_df.loc[all_results_df['lamdas']==lambdas[2],'accuracy' ], 'b', label='lambda = 0.0005', color = 'green')\n",
    "\n",
    "plt.title('Loss values based on different lambdas and epoch')\n",
    "plt.xlabel('Epochs')\n",
    "plt.ylabel('acc')\n",
    "plt.legend()\n",
    "\n",
    "plt.show()"
   ]
  },
  {
   "cell_type": "code",
   "execution_count": 71,
   "metadata": {},
   "outputs": [
    {
     "data": {
      "image/png": "[encoded data removed]",
      "text/plain": [
       "<Figure size 432x288 with 1 Axes>"
      ]
     },
     "metadata": {
      "needs_background": "light"
     },
     "output_type": "display_data"
    }
   ],
   "source": [
    "plt.clf()   # clear figure\n",
    "\n",
    "plt.plot(all_results_df.loc[all_results_df['lamdas']==lambdas[0],'epochs' ], all_results_df.loc[all_results_df['lamdas']==lambdas[0],'loss' ], 'b', label='lambda = 0.001', color = 'blue')\n",
    "plt.plot(all_results_df.loc[all_results_df['lamdas']==lambdas[0],'epochs' ], all_results_df.loc[all_results_df['lamdas']==lambdas[1],'loss' ], 'b', label='lambda = 0.005', color = 'red')\n",
    "plt.plot(all_results_df.loc[all_results_df['lamdas']==lambdas[0],'epochs' ], all_results_df.loc[all_results_df['lamdas']==lambdas[2],'loss' ], 'b', label='lambda = 0.0005', color = 'green')\n",
    "\n",
    "plt.title('Loss values based on different lambdas and epoch')\n",
    "plt.xlabel('Epochs')\n",
    "plt.ylabel('Loss')\n",
    "plt.legend()\n",
    "\n",
    "plt.show()"
   ]
  },
  {
   "cell_type": "code",
   "execution_count": null,
   "metadata": {},
   "outputs": [],
   "source": []
  }
 ],
 "metadata": {
  "kernelspec": {
   "display_name": "Python 3",
   "language": "python",
   "name": "python3"
  },
  "language_info": {
   "codemirror_mode": {
    "name": "ipython",
    "version": 3
   },
   "file_extension": ".py",
   "mimetype": "text/x-python",
   "name": "python",
   "nbconvert_exporter": "python",
   "pygments_lexer": "ipython3",
   "version": "3.7.3"
  }
 },
 "nbformat": 4,
 "nbformat_minor": 4
}
